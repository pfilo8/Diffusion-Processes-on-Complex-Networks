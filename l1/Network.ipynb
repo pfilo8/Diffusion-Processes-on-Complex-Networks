{
 "cells": [
  {
   "cell_type": "code",
   "execution_count": 41,
   "metadata": {},
   "outputs": [],
   "source": [
    "import numpy as np\n",
    "import pandas as pd\n",
    "import networkx as nx\n",
    "import matplotlib.pyplot as plt"
   ]
  },
  {
   "cell_type": "code",
   "execution_count": 20,
   "metadata": {},
   "outputs": [],
   "source": [
    "g = nx.Graph()"
   ]
  },
  {
   "cell_type": "code",
   "execution_count": 21,
   "metadata": {},
   "outputs": [],
   "source": [
    "df = pd.read_csv('network.csv')"
   ]
  },
  {
   "cell_type": "code",
   "execution_count": 22,
   "metadata": {},
   "outputs": [
    {
     "data": {
      "text/plain": [
       "array([['Alice', 'Bob'],\n",
       "       ['Carl', 'Alice'],\n",
       "       ['Alice', 'David'],\n",
       "       ['Alice', 'Ernst'],\n",
       "       ['Alice', 'Frank'],\n",
       "       ['Bob', 'Gail'],\n",
       "       ['Gail', 'Harry'],\n",
       "       ['Harry', 'Jen'],\n",
       "       ['Jen', 'Gail'],\n",
       "       ['Harry', 'Irene'],\n",
       "       ['Irene', 'Gail'],\n",
       "       ['Irene', 'Jen'],\n",
       "       ['Ernst', 'Frank'],\n",
       "       ['David', 'Carl'],\n",
       "       ['Carl', 'Frank']], dtype=object)"
      ]
     },
     "execution_count": 22,
     "metadata": {},
     "output_type": "execute_result"
    }
   ],
   "source": [
    "df.values"
   ]
  },
  {
   "cell_type": "code",
   "execution_count": 23,
   "metadata": {},
   "outputs": [],
   "source": [
    "g.add_edges_from(df.values)"
   ]
  },
  {
   "cell_type": "code",
   "execution_count": 24,
   "metadata": {},
   "outputs": [
    {
     "name": "stderr",
     "output_type": "stream",
     "text": [
      "/home/pwielopolski/anaconda3/envs/datascience/lib/python3.7/site-packages/networkx/drawing/nx_pylab.py:579: MatplotlibDeprecationWarning: \n",
      "The iterable function was deprecated in Matplotlib 3.1 and will be removed in 3.3. Use np.iterable instead.\n",
      "  if not cb.iterable(width):\n"
     ]
    },
    {
     "data": {
      "image/png": "[encoded data removed]",
      "text/plain": [
       "<Figure size 432x288 with 1 Axes>"
      ]
     },
     "metadata": {},
     "output_type": "display_data"
    }
   ],
   "source": [
    "nx.draw_networkx(g)\n",
    "plt.show()"
   ]
  },
  {
   "cell_type": "code",
   "execution_count": 30,
   "metadata": {},
   "outputs": [
    {
     "data": {
      "text/plain": [
       "DegreeView({'Alice': 5, 'Bob': 2, 'Carl': 3, 'David': 2, 'Ernst': 2, 'Frank': 3, 'Gail': 4, 'Harry': 3, 'Jen': 3, 'Irene': 3})"
      ]
     },
     "execution_count": 30,
     "metadata": {},
     "output_type": "execute_result"
    }
   ],
   "source": [
    "nx.degree(g)"
   ]
  },
  {
   "cell_type": "code",
   "execution_count": 31,
   "metadata": {},
   "outputs": [
    {
     "data": {
      "text/plain": [
       "0.3333333333333333"
      ]
     },
     "execution_count": 31,
     "metadata": {},
     "output_type": "execute_result"
    }
   ],
   "source": [
    "nx.density(g)"
   ]
  },
  {
   "cell_type": "code",
   "execution_count": 25,
   "metadata": {},
   "outputs": [
    {
     "data": {
      "text/plain": [
       "{'Alice': 0.3,\n",
       " 'Bob': 0,\n",
       " 'Carl': 0.6666666666666666,\n",
       " 'David': 1.0,\n",
       " 'Ernst': 1.0,\n",
       " 'Frank': 0.6666666666666666,\n",
       " 'Gail': 0.5,\n",
       " 'Harry': 1.0,\n",
       " 'Jen': 1.0,\n",
       " 'Irene': 1.0}"
      ]
     },
     "execution_count": 25,
     "metadata": {},
     "output_type": "execute_result"
    }
   ],
   "source": [
    "nx.clustering(g)"
   ]
  },
  {
   "cell_type": "code",
   "execution_count": 26,
   "metadata": {},
   "outputs": [
    {
     "data": {
      "text/plain": [
       "0.7133333333333333"
      ]
     },
     "execution_count": 26,
     "metadata": {},
     "output_type": "execute_result"
    }
   ],
   "source": [
    "nx.average_clustering(g)"
   ]
  },
  {
   "cell_type": "code",
   "execution_count": 28,
   "metadata": {},
   "outputs": [
    {
     "data": {
      "text/plain": [
       "{'Alice': 0.5625,\n",
       " 'Bob': 0.5625,\n",
       " 'Carl': 0.4090909090909091,\n",
       " 'David': 0.391304347826087,\n",
       " 'Ernst': 0.391304347826087,\n",
       " 'Frank': 0.4090909090909091,\n",
       " 'Gail': 0.5,\n",
       " 'Harry': 0.375,\n",
       " 'Jen': 0.375,\n",
       " 'Irene': 0.375}"
      ]
     },
     "execution_count": 28,
     "metadata": {},
     "output_type": "execute_result"
    }
   ],
   "source": [
    "nx.closeness_centrality(g)"
   ]
  },
  {
   "cell_type": "code",
   "execution_count": 29,
   "metadata": {},
   "outputs": [
    {
     "data": {
      "text/plain": [
       "{'Alice': 0.611111111111111,\n",
       " 'Bob': 0.5555555555555556,\n",
       " 'Carl': 0.013888888888888888,\n",
       " 'David': 0.0,\n",
       " 'Ernst': 0.0,\n",
       " 'Frank': 0.013888888888888888,\n",
       " 'Gail': 0.5,\n",
       " 'Harry': 0.0,\n",
       " 'Jen': 0.0,\n",
       " 'Irene': 0.0}"
      ]
     },
     "execution_count": 29,
     "metadata": {},
     "output_type": "execute_result"
    }
   ],
   "source": [
    "nx.betweenness_centrality(g)"
   ]
  },
  {
   "cell_type": "code",
   "execution_count": 38,
   "metadata": {},
   "outputs": [],
   "source": [
    "A = nx.adjacency_matrix(g).toarray()"
   ]
  },
  {
   "cell_type": "code",
   "execution_count": 42,
   "metadata": {},
   "outputs": [],
   "source": [
    "e = np.ones(10)"
   ]
  },
  {
   "cell_type": "code",
   "execution_count": 50,
   "metadata": {},
   "outputs": [
    {
     "data": {
      "text/plain": [
       "array([5., 2., 3., 2., 2., 3., 4., 3., 3., 3.])"
      ]
     },
     "execution_count": 50,
     "metadata": {},
     "output_type": "execute_result"
    }
   ],
   "source": [
    "np.dot(A, e)"
   ]
  },
  {
   "cell_type": "code",
   "execution_count": 48,
   "metadata": {},
   "outputs": [
    {
     "data": {
      "text/plain": [
       "30"
      ]
     },
     "execution_count": 48,
     "metadata": {},
     "output_type": "execute_result"
    }
   ],
   "source": [
    "np.trace(np.dot(A, A))"
   ]
  },
  {
   "cell_type": "code",
   "execution_count": 52,
   "metadata": {},
   "outputs": [
    {
     "data": {
      "text/plain": [
       "array([[5, 0, 2, 1, 1, 2, 1, 0, 0, 0],\n",
       "       [0, 2, 1, 1, 1, 1, 0, 1, 1, 1],\n",
       "       [2, 1, 3, 1, 2, 1, 0, 0, 0, 0],\n",
       "       [1, 1, 1, 2, 1, 2, 0, 0, 0, 0],\n",
       "       [1, 1, 2, 1, 2, 1, 0, 0, 0, 0],\n",
       "       [2, 1, 1, 2, 1, 3, 0, 0, 0, 0],\n",
       "       [1, 0, 0, 0, 0, 0, 4, 2, 2, 2],\n",
       "       [0, 1, 0, 0, 0, 0, 2, 3, 2, 2],\n",
       "       [0, 1, 0, 0, 0, 0, 2, 2, 3, 2],\n",
       "       [0, 1, 0, 0, 0, 0, 2, 2, 2, 3]], dtype=int64)"
      ]
     },
     "execution_count": 52,
     "metadata": {},
     "output_type": "execute_result"
    }
   ],
   "source": [
    "np.dot(A, A)"
   ]
  }
 ],
 "metadata": {
  "kernelspec": {
   "display_name": "Python 3",
   "language": "python",
   "name": "python3"
  },
  "language_info": {
   "codemirror_mode": {
    "name": "ipython",
    "version": 3
   },
   "file_extension": ".py",
   "mimetype": "text/x-python",
   "name": "python",
   "nbconvert_exporter": "python",
   "pygments_lexer": "ipython3",
   "version": "3.7.4"
  }
 },
 "nbformat": 4,
 "nbformat_minor": 2
}
