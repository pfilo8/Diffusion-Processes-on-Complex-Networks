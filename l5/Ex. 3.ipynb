{
 "cells": [
  {
   "cell_type": "code",
   "execution_count": 5,
   "metadata": {},
   "outputs": [],
   "source": [
    "import random\n",
    "import networkx as nx"
   ]
  },
  {
   "cell_type": "code",
   "execution_count": 80,
   "metadata": {},
   "outputs": [],
   "source": [
    "STATUS = 'status'\n",
    "INFECTED = 'infected'\n",
    "SUSCEPTIBLE = 'susceptible'\n",
    "RECOVERED = 'recovered'"
   ]
  },
  {
   "cell_type": "code",
   "execution_count": 81,
   "metadata": {},
   "outputs": [],
   "source": [
    "G = nx.barabasi_albert_graph(30, 3)\n",
    "p = 0.01\n",
    "\n",
    "\n",
    "init_susceptible(G)\n",
    "init_infected(G)\n",
    "\n",
    "to_recover = []\n",
    "\n",
    "while any_infected(G):\n",
    "    if to_recover:\n",
    "        set_recovered(G, to_recover)\n",
    "\n",
    "    infected_nodes = get_infected(G)\n",
    "    to_infect = []\n",
    "    for node in infected_nodes:\n",
    "        pass\n",
    "    \n",
    "    to_recover = get_infected(G)"
   ]
  },
  {
   "cell_type": "code",
   "execution_count": 87,
   "metadata": {},
   "outputs": [],
   "source": [
    "def init_susceptible(G):\n",
    "    nx.set_node_attributes(G, SUSCEPTIBLE, name = STATUS)\n",
    "    \n",
    "def init_infected(G):\n",
    "    first_infected_node = random.choice(list(G.nodes()))\n",
    "    set_infected(G, [first_infected_node])\n",
    "\n",
    "def any_infected(G):\n",
    "    return INFECTED in nx.get_node_attributes(G, STATUS).values()\n",
    "\n",
    "def get_infected(G):\n",
    "    return [k for k, v in nx.get_node_attributes(G, STATUS).items() if v == INFECTED]\n",
    "\n",
    "def get_neighbors(G, node):\n",
    "    return \n",
    "  \n",
    "def set_infected(G, infected_list):\n",
    "    infected_nodes = {u:INFECTED for u in infected_list}\n",
    "    nx.set_node_attributes(G, infected_nodes)\n",
    "    \n",
    "def set_recovered(G, recovered_list):\n",
    "    recovered_nodes = {u:RECOVERED for u in recovered_list}\n",
    "    nx.set_node_attributes(G, recovered_nodes)"
   ]
  },
  {
   "cell_type": "code",
   "execution_count": 73,
   "metadata": {},
   "outputs": [
    {
     "name": "stdout",
     "output_type": "stream",
     "text": [
      "0\n",
      "11\n"
     ]
    }
   ],
   "source": [
    "for u in get_infected(G):\n",
    "    print(u)"
   ]
  },
  {
   "cell_type": "code",
   "execution_count": 78,
   "metadata": {},
   "outputs": [
    {
     "data": {
      "text/plain": [
       "<dict_keyiterator at 0x7f063856b710>"
      ]
     },
     "execution_count": 78,
     "metadata": {},
     "output_type": "execute_result"
    }
   ],
   "source": [
    "G.neighbors(0)"
   ]
  },
  {
   "cell_type": "code",
   "execution_count": 79,
   "metadata": {},
   "outputs": [],
   "source": [
    "node_attributes = nx.get_node_attributes(G, STATUS)"
   ]
  },
  {
   "cell_type": "code",
   "execution_count": null,
   "metadata": {},
   "outputs": [],
   "source": []
  },
  {
   "cell_type": "code",
   "execution_count": 70,
   "metadata": {},
   "outputs": [
    {
     "data": {
      "text/plain": [
       "{0: 'infected',\n",
       " 1: 'susceptible',\n",
       " 2: 'susceptible',\n",
       " 3: 'susceptible',\n",
       " 4: 'susceptible',\n",
       " 5: 'susceptible',\n",
       " 6: 'susceptible',\n",
       " 7: 'susceptible',\n",
       " 8: 'susceptible',\n",
       " 9: 'susceptible',\n",
       " 10: 'susceptible',\n",
       " 11: 'infected',\n",
       " 12: 'susceptible',\n",
       " 13: 'susceptible',\n",
       " 14: 'susceptible',\n",
       " 15: 'susceptible',\n",
       " 16: 'susceptible',\n",
       " 17: 'susceptible',\n",
       " 18: 'susceptible',\n",
       " 19: 'susceptible',\n",
       " 20: 'susceptible',\n",
       " 21: 'susceptible',\n",
       " 22: 'susceptible',\n",
       " 23: 'susceptible',\n",
       " 24: 'susceptible',\n",
       " 25: 'susceptible',\n",
       " 26: 'susceptible',\n",
       " 27: 'susceptible',\n",
       " 28: 'susceptible',\n",
       " 29: 'susceptible'}"
      ]
     },
     "execution_count": 70,
     "metadata": {},
     "output_type": "execute_result"
    }
   ],
   "source": [
    "nx.get_node_attributes(G, STATUS)"
   ]
  },
  {
   "cell_type": "code",
   "execution_count": 69,
   "metadata": {},
   "outputs": [],
   "source": [
    "nx.set_node_attributes(G, {0: INFECTED}, STATUS)"
   ]
  },
  {
   "cell_type": "code",
   "execution_count": null,
   "metadata": {},
   "outputs": [],
   "source": []
  }
 ],
 "metadata": {
  "kernelspec": {
   "display_name": "Python 3",
   "language": "python",
   "name": "python3"
  },
  "language_info": {
   "codemirror_mode": {
    "name": "ipython",
    "version": 3
   },
   "file_extension": ".py",
   "mimetype": "text/x-python",
   "name": "python",
   "nbconvert_exporter": "python",
   "pygments_lexer": "ipython3",
   "version": "3.7.4"
  }
 },
 "nbformat": 4,
 "nbformat_minor": 2
}
