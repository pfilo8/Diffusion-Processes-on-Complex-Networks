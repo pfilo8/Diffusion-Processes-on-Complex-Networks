{
 "cells": [
  {
   "cell_type": "code",
   "execution_count": null,
   "metadata": {},
   "outputs": [],
   "source": [
    "def generate_node_colors(status):\n",
    "    return [map_colors(v) for v in status.values()]\n",
    "\n",
    "\n",
    "def map_colors(value):\n",
    "    if value == SUSCEPTIBLE:\n",
    "        return 'green'\n",
    "    elif value == INFECTED:\n",
    "        return 'red'\n",
    "    elif value == RECOVERED:\n",
    "        return 'yellow'\n",
    "    else:\n",
    "        raise ValueError('Incorrect value!')"
   ]
  },
  {
   "cell_type": "code",
   "execution_count": null,
   "metadata": {},
   "outputs": [],
   "source": [
    "\n",
    "for status in results:\n",
    "    G = nx.Graph()\n",
    "    G.add_nodes_from(status)\n",
    "    node_color = generate_node_colors(status)\n",
    "    \n",
    "    nx.draw_networkx(G, node_color = node_color)\n",
    "    plt.show()"
   ]
  }
 ],
 "metadata": {
  "kernelspec": {
   "display_name": "Python 3",
   "language": "python",
   "name": "python3"
  },
  "language_info": {
   "codemirror_mode": {
    "name": "ipython",
    "version": 3
   },
   "file_extension": ".py",
   "mimetype": "text/x-python",
   "name": "python",
   "nbconvert_exporter": "python",
   "pygments_lexer": "ipython3",
   "version": "3.7.4"
  }
 },
 "nbformat": 4,
 "nbformat_minor": 2
}
