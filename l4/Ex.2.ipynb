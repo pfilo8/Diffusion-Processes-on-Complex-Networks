{
 "cells": [
  {
   "cell_type": "markdown",
   "metadata": {},
   "source": [
    "# Pearson`s random walk"
   ]
  },
  {
   "cell_type": "code",
   "execution_count": 1,
   "metadata": {},
   "outputs": [],
   "source": [
    "from main2 import *"
   ]
  },
  {
   "cell_type": "markdown",
   "metadata": {},
   "source": [
    "# $A_N$ - the fraction of time steps when the walker is in right halfplane $(x >0)$ "
   ]
  },
  {
   "cell_type": "code",
   "execution_count": 2,
   "metadata": {},
   "outputs": [
    {
     "data": {
      "image/png": "[encoded data removed]",
      "text/plain": [
       "<Figure size 432x288 with 1 Axes>"
      ]
     },
     "metadata": {
      "needs_background": "light"
     },
     "output_type": "display_data"
    },
    {
     "name": "stdout",
     "output_type": "stream",
     "text": [
      "Mean: 0.49196900000000005\n"
     ]
    }
   ],
   "source": [
    "N_MC_STEPS = 1000\n",
    "N = 1000\n",
    "results = []\n",
    "\n",
    "for _ in range(N_MC_STEPS):\n",
    "    x, y = generate_trajectory(N)\n",
    "    value = (x>0).sum()/N\n",
    "    results.append(value)\n",
    "    \n",
    "plt.hist(results)\n",
    "plt.show()\n",
    "\n",
    "print(f'Mean: {np.mean(results)}')"
   ]
  },
  {
   "cell_type": "markdown",
   "metadata": {},
   "source": [
    "# $B_N$ - the fraction of time the walker is in the first quadrant  $(x >0,  y >0)$"
   ]
  },
  {
   "cell_type": "code",
   "execution_count": 3,
   "metadata": {},
   "outputs": [
    {
     "data": {
      "image/png": "[encoded data removed]",
      "text/plain": [
       "<Figure size 432x288 with 1 Axes>"
      ]
     },
     "metadata": {
      "needs_background": "light"
     },
     "output_type": "display_data"
    },
    {
     "name": "stdout",
     "output_type": "stream",
     "text": [
      "Mean: 0.26559499999999997\n"
     ]
    }
   ],
   "source": [
    "N_MC_STEPS = 1000\n",
    "N = 1000\n",
    "results = []\n",
    "\n",
    "for _ in range(N_MC_STEPS):\n",
    "    x, y = generate_trajectory(N)\n",
    "    value = np.logical_and(x>0, y>0).sum()/N\n",
    "    results.append(value)\n",
    "    \n",
    "plt.hist(results)\n",
    "plt.show()\n",
    "\n",
    "print(f'Mean: {np.mean(results)}')"
   ]
  },
  {
   "cell_type": "markdown",
   "metadata": {},
   "source": [
    "# Example trajectory"
   ]
  },
  {
   "cell_type": "code",
   "execution_count": 4,
   "metadata": {},
   "outputs": [],
   "source": [
    "N = 100"
   ]
  },
  {
   "cell_type": "code",
   "execution_count": null,
   "metadata": {},
   "outputs": [],
   "source": [
    "animate_trajectory(*generate_trajectory(N))\n",
    "\n",
    "# Create animation\n",
    "!convert -delay 20 -loop 0 `ls -v tmp/*.png` outputs/task2_trajectory1.gif \n",
    "!rm -rf tmp/"
   ]
  },
  {
   "cell_type": "code",
   "execution_count": null,
   "metadata": {
    "scrolled": true
   },
   "outputs": [],
   "source": [
    "animate_trajectory(*generate_trajectory(N))\n",
    "\n",
    "# Create animation\n",
    "!convert -delay 20 -loop 0 `ls -v tmp/*.png` outputs/task2_trajectory2.gif \n",
    "!rm -rf tmp/"
   ]
  },
  {
   "cell_type": "code",
   "execution_count": null,
   "metadata": {},
   "outputs": [],
   "source": [
    "animate_trajectory(*generate_trajectory(N))\n",
    "\n",
    "# Create animation\n",
    "!convert -delay 20 -loop 0 `ls -v tmp/*.png` outputs/task2_trajectory3.gif \n",
    "!rm -rf tmp/"
   ]
  }
 ],
 "metadata": {
  "kernelspec": {
   "display_name": "Python 3",
   "language": "python",
   "name": "python3"
  },
  "language_info": {
   "codemirror_mode": {
    "name": "ipython",
    "version": 3
   },
   "file_extension": ".py",
   "mimetype": "text/x-python",
   "name": "python",
   "nbconvert_exporter": "python",
   "pygments_lexer": "ipython3",
   "version": "3.7.4"
  }
 },
 "nbformat": 4,
 "nbformat_minor": 2
}
